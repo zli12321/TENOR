{
 "cells": [
  {
   "cell_type": "code",
   "execution_count": 1,
   "metadata": {},
   "outputs": [],
   "source": [
    "import pandas as pd\n",
    "import numpy as np"
   ]
  },
  {
   "cell_type": "code",
   "execution_count": 2,
   "metadata": {},
   "outputs": [
    {
     "data": {
      "text/plain": [
       "9608"
      ]
     },
     "execution_count": 2,
     "metadata": {},
     "output_type": "execute_result"
    }
   ],
   "source": [
    "congressional_df = pd.read_json('./unfiltered_congressional_bill_train.json')\n",
    "len(congressional_df)"
   ]
  },
  {
   "cell_type": "code",
   "execution_count": 3,
   "metadata": {},
   "outputs": [
    {
     "data": {
      "text/plain": [
       "label\n",
       "Public Lands and Water Management    1201\n",
       "Agriculture                          1201\n",
       "Macroeconomics                       1201\n",
       "Health                               1201\n",
       "Transportation                       1201\n",
       "Environment                          1201\n",
       "Education                            1201\n",
       "Labor and Employment                 1201\n",
       "Name: count, dtype: int64"
      ]
     },
     "execution_count": 3,
     "metadata": {},
     "output_type": "execute_result"
    }
   ],
   "source": [
    "congressional_df['label'].value_counts()"
   ]
  },
  {
   "cell_type": "code",
   "execution_count": 4,
   "metadata": {},
   "outputs": [
    {
     "data": {
      "text/plain": [
       "sub_labels\n",
       "National Parks, Memorials and Recreation                                       306\n",
       "Natural Resources, Public Lands, and Forest Management                         299\n",
       "Water Resources Development                                                    277\n",
       "Species and Habitat Protection                                                 258\n",
       "National Budget and Debt                                                       252\n",
       "Elementary and Secondary Education                                             250\n",
       "Roads and Highways                                                             224\n",
       "Native American Affairs                                                        217\n",
       "Air Transportation and Safety                                                  202\n",
       "Employment Training and Workforce Development                                  199\n",
       "Employee Relations and Labor Unions                                            175\n",
       "Pollution and Conservation in Coastal & Other Navigable Waterways              170\n",
       "Health Insurance                                                               169\n",
       "Agricultural Trade                                                             160\n",
       "Air pollution, Climate Change, and Noise Pollution                             151\n",
       "General education                                                              150\n",
       "Land and Water Conservation                                                    146\n",
       "Food Inspection and Safety                                                     144\n",
       "Facilities construction, regulation, and payments                              136\n",
       "Educational Excellence                                                         130\n",
       "General agriculture                                                            127\n",
       "Worker Safety and Protection, Occupational and Safety Health Administration    125\n",
       "Hazardous Waste and Toxic Chemical Regulation, Treatment, and Disposal         123\n",
       "Truck and Automobile Transportation and Safety                                 115\n",
       "Public health and disease prevention                                           113\n",
       "Monetary Supply, Federal Reserve Board, and the Treasury                       108\n",
       "Railroad Transportation and Safety                                             107\n",
       "Comprehensive health care reform                                               106\n",
       "Fair Labor Standards                                                           101\n",
       "General environment                                                            101\n",
       "Name: count, dtype: int64"
      ]
     },
     "execution_count": 4,
     "metadata": {},
     "output_type": "execute_result"
    }
   ],
   "source": [
    "value_counts = congressional_df['sub_labels'].value_counts()\n",
    "value_counts.iloc[5:35]"
   ]
  },
  {
   "cell_type": "code",
   "execution_count": 5,
   "metadata": {},
   "outputs": [
    {
     "data": {
      "text/plain": [
       "['Taxation, Tax policy, and Broad Tax Reform',\n",
       " 'Government Subsidies to Farmers and Ranchers, Agricultural Disaster Insurance',\n",
       " 'Employee Benefits',\n",
       " 'Higher Education',\n",
       " 'Maritime Issues, Including Safety and Security']"
      ]
     },
     "execution_count": 5,
     "metadata": {},
     "output_type": "execute_result"
    }
   ],
   "source": [
    "selected_labels = value_counts.iloc[:40].index.tolist()\n",
    "selected_labels[:5]"
   ]
  },
  {
   "cell_type": "code",
   "execution_count": 6,
   "metadata": {},
   "outputs": [
    {
     "data": {
      "text/plain": [
       "2305"
      ]
     },
     "execution_count": 6,
     "metadata": {},
     "output_type": "execute_result"
    }
   ],
   "source": [
    "len(np.unique(congressional_df.sub_labels.values.tolist()))\n",
    "import re\n",
    "'''\n",
    "Only select those topics that are in public interest\n",
    "'''\n",
    "# selected_labels = ['Macroeconomics', \"Health\", \"Agriculture\", \"Labor and Employment\", \"Education\", \"Environment\",  \"Transportation\", \"Public Lands and Water Management\", \"Banking, Finance, and Domestic Commerce\"]\n",
    "texts = congressional_df.text.values.tolist()\n",
    "labels = congressional_df.label.values.tolist()\n",
    "sub_labels = congressional_df.sub_labels.values.tolist()\n",
    "text_lst, label_lst, sub_lst = [], [], []\n",
    "\n",
    "count = 0\n",
    "for i, ele in enumerate(sub_labels):\n",
    "    if len(re.findall(r'\\b\\w+\\b', texts[i])) >= 30:\n",
    "        if ele in selected_labels:\n",
    "            # print(i)\n",
    "            count += 1\n",
    "            text_lst.append(texts[i])\n",
    "            label_lst.append(labels[i])\n",
    "            sub_lst.append(sub_labels[i])\n",
    "\n",
    "count"
   ]
  },
  {
   "cell_type": "code",
   "execution_count": 7,
   "metadata": {},
   "outputs": [
    {
     "data": {
      "text/plain": [
       "40"
      ]
     },
     "execution_count": 7,
     "metadata": {},
     "output_type": "execute_result"
    }
   ],
   "source": [
    "len(np.unique(sub_lst))"
   ]
  },
  {
   "cell_type": "code",
   "execution_count": 8,
   "metadata": {},
   "outputs": [
    {
     "data": {
      "text/plain": [
       "Counter({'National Parks, Memorials and Recreation': 57,\n",
       "         'Health Insurance': 66,\n",
       "         'Species and Habitat Protection': 81,\n",
       "         'Higher Education': 146,\n",
       "         'Roads and Highways': 69,\n",
       "         'Drinking Water Safety': 25,\n",
       "         'National Budget and Debt': 91,\n",
       "         'Maritime Issues, Including Safety and Security': 91,\n",
       "         'Facilities construction, regulation, and payments': 45,\n",
       "         'Elementary and Secondary Education': 69,\n",
       "         'Government Subsidies to Farmers and Ranchers, Agricultural Disaster Insurance': 144,\n",
       "         'Public health and disease prevention': 33,\n",
       "         'Air pollution, Climate Change, and Noise Pollution': 47,\n",
       "         'Food Inspection and Safety': 45,\n",
       "         'Natural Resources, Public Lands, and Forest Management': 98,\n",
       "         'Agricultural Trade': 53,\n",
       "         'Native American Affairs': 57,\n",
       "         'Hazardous Waste and Toxic Chemical Regulation, Treatment, and Disposal': 45,\n",
       "         'General agriculture': 40,\n",
       "         'Taxation, Tax policy, and Broad Tax Reform': 149,\n",
       "         'Employment Training and Workforce Development': 59,\n",
       "         'Monetary Supply, Federal Reserve Board, and the Treasury': 19,\n",
       "         'Water Resources Development': 66,\n",
       "         'Fisheries and Fishing': 14,\n",
       "         'General Transportation': 22,\n",
       "         'Employee Benefits': 143,\n",
       "         'Truck and Automobile Transportation and Safety': 38,\n",
       "         'Air Transportation and Safety': 58,\n",
       "         'Educational Excellence': 20,\n",
       "         'Pollution and Conservation in Coastal & Other Navigable Waterways': 59,\n",
       "         'Fair Labor Standards': 29,\n",
       "         'Agricultural Marketing, Research, and Promotion': 27,\n",
       "         'Land and Water Conservation': 38,\n",
       "         'Employee Relations and Labor Unions': 41,\n",
       "         'General environment': 31,\n",
       "         'Worker Safety and Protection, Occupational and Safety Health Administration': 53,\n",
       "         'Regulation of drug industry, medical devices, and clinical labs': 25,\n",
       "         'Railroad Transportation and Safety': 28,\n",
       "         'General education': 49,\n",
       "         'Comprehensive health care reform': 35})"
      ]
     },
     "execution_count": 8,
     "metadata": {},
     "output_type": "execute_result"
    }
   ],
   "source": [
    "from collections import Counter\n",
    "Counter(sub_lst)"
   ]
  },
  {
   "cell_type": "code",
   "execution_count": 9,
   "metadata": {},
   "outputs": [
    {
     "data": {
      "text/plain": [
       "2305"
      ]
     },
     "execution_count": 9,
     "metadata": {},
     "output_type": "execute_result"
    }
   ],
   "source": [
    "len(text_lst)"
   ]
  },
  {
   "cell_type": "code",
   "execution_count": 10,
   "metadata": {},
   "outputs": [],
   "source": [
    "'''\n",
    "Save the file to a train file used for topic modeling\n",
    "'''\n",
    "result = {}\n",
    "result['text'] = {}\n",
    "result['label'] = {}\n",
    "result['sub_labels'] = {}\n",
    "\n",
    "for i in range(len(text_lst)):\n",
    "    result['text'][str(i)] = text_lst[i]\n",
    "    result['label'][str(i)] = label_lst[i]\n",
    "    result['sub_labels'][str(i)] = sub_lst[i]\n",
    "\n"
   ]
  },
  {
   "cell_type": "code",
   "execution_count": 11,
   "metadata": {},
   "outputs": [],
   "source": [
    "'''save the data'''\n",
    "import json\n",
    "with open(\"./congressional_bill_train.json\", \"w\") as outfile:\n",
    "    json.dump(result, outfile)"
   ]
  }
 ],
 "metadata": {
  "kernelspec": {
   "display_name": "Python 3",
   "language": "python",
   "name": "python3"
  },
  "language_info": {
   "codemirror_mode": {
    "name": "ipython",
    "version": 3
   },
   "file_extension": ".py",
   "mimetype": "text/x-python",
   "name": "python",
   "nbconvert_exporter": "python",
   "pygments_lexer": "ipython3",
   "version": "3.9.16"
  },
  "orig_nbformat": 4
 },
 "nbformat": 4,
 "nbformat_minor": 2
}
